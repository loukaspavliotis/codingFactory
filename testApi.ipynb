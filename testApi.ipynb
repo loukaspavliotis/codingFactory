{
 "cells": [
  {
   "cell_type": "code",
   "execution_count": 3,
   "metadata": {
    "collapsed": true
   },
   "outputs": [
    {
     "name": "stdout",
     "output_type": "stream",
     "text": [
      "[✅] CSRF Token Retrieved: PV1aeGvhQLjV1esXrQJtCFLMnVughd64xFYbCjbWA0HkQjMKdMhJxhl08AJV9smj\n",
      "[✅] Login successful.\n",
      "[✅] API request successful.\n",
      "Response JSON:\n",
      "{'total_users': 5, 'active_users': 5, 'latest_users': [{'username': 'tzim', 'email': 'tzim32323@gmail.com', 'date_joined': '2025-01-09T21:05:03.451736Z'}, {'username': 'tzim17', 'email': 'tzim329@gmail.com', 'date_joined': '2025-01-09T20:30:19.874379Z'}, {'username': 'tzom', 'email': 'tzim323@gmail.com', 'date_joined': '2025-01-09T20:22:37.814782Z'}, {'username': 'tzam2', 'email': 'tz@tga.com', 'date_joined': '2025-01-08T23:12:16.199093Z'}, {'username': 'tzim5', 'email': 'd.s.konstant2@gmail.com', 'date_joined': '2025-01-07T22:41:39.218933Z'}]}\n"
     ]
    }
   ],
   "source": [
    "import requests\n",
    "\n",
    "# API URLs\n",
    "BASE_URL = \"http://127.0.0.1:8000\"\n",
    "LOGIN_URL = f\"{BASE_URL}/login/\"\n",
    "API_URL = f\"{BASE_URL}/api/platform-stats/\"\n",
    "\n",
    "# Test User Credentials (Update with valid credentials)\n",
    "USERNAME = \"tzam2\"\n",
    "PASSWORD = \"1234\"\n",
    "\n",
    "\n",
    "def get_session():\n",
    "    \"\"\"Authenticate and return a session with CSRF token.\"\"\"\n",
    "    session = requests.Session()\n",
    "\n",
    "    # Step 1: Get CSRF Token from the Login Page\n",
    "    csrf_response = session.get(LOGIN_URL)\n",
    "    if 'csrftoken' in session.cookies:\n",
    "        csrf_token = session.cookies['csrftoken']\n",
    "        print(f\"[✅] CSRF Token Retrieved: {csrf_token}\")\n",
    "    else:\n",
    "        print(\"[❌] Failed to retrieve CSRF token.\")\n",
    "        return None\n",
    "\n",
    "    # Step 2: Send Login POST Request with CSRF Token\n",
    "    login_data = {\n",
    "        'username': USERNAME,\n",
    "        'password': PASSWORD,\n",
    "        'csrfmiddlewaretoken': csrf_token\n",
    "    }\n",
    "    headers = {\n",
    "        'Referer': LOGIN_URL  # Required for CSRF validation\n",
    "    }\n",
    "    response = session.post(LOGIN_URL, data=login_data, headers=headers)\n",
    "\n",
    "    if response.status_code == 200 or response.status_code == 302:\n",
    "        print(\"[✅] Login successful.\")\n",
    "        return session\n",
    "    else:\n",
    "        print(f\"[❌] Login failed. Status code: {response.status_code}\")\n",
    "        print(response.text)\n",
    "        return None\n",
    "\n",
    "\n",
    "def test_api():\n",
    "    \"\"\"Test the authenticated API.\"\"\"\n",
    "    session = get_session()\n",
    "    if not session:\n",
    "        print(\"[❌] Could not authenticate. Exiting test.\")\n",
    "        return\n",
    "\n",
    "    # Make Authenticated API Request\n",
    "    response = session.get(API_URL)\n",
    "\n",
    "    if response.status_code == 200:\n",
    "        print(\"[✅] API request successful.\")\n",
    "        print(\"Response JSON:\")\n",
    "        print(response.json())\n",
    "    else:\n",
    "        print(f\"[❌] API request failed. Status code: {response.status_code}\")\n",
    "        print(response.text)\n",
    "\n",
    "\n",
    "if __name__ == \"__main__\":\n",
    "    test_api()"
   ]
  },
  {
   "cell_type": "code",
   "execution_count": 4,
   "outputs": [
    {
     "name": "stdout",
     "output_type": "stream",
     "text": [
      "Tables: [('django_migrations',), ('sqlite_sequence',), ('auth_group_permissions',), ('auth_user_groups',), ('auth_user_user_permissions',), ('django_admin_log',), ('django_content_type',), ('auth_permission',), ('auth_group',), ('auth_user',), ('django_session',), ('app_profile',)]\n",
      "Schema of auth_user: [(0, 'id', 'INTEGER', 1, None, 1), (1, 'password', 'varchar(128)', 1, None, 0), (2, 'last_login', 'datetime', 0, None, 0), (3, 'is_superuser', 'bool', 1, None, 0), (4, 'username', 'varchar(150)', 1, None, 0), (5, 'last_name', 'varchar(150)', 1, None, 0), (6, 'email', 'varchar(254)', 1, None, 0), (7, 'is_staff', 'bool', 1, None, 0), (8, 'is_active', 'bool', 1, None, 0), (9, 'date_joined', 'datetime', 1, None, 0), (10, 'first_name', 'varchar(150)', 1, None, 0)]\n",
      "Data from auth_user: [(4, 'pbkdf2_sha256$216000$XatFvDLMlilM$K2Ijdf3yHHpI+59UHEYPuu9pJuvOMKQP+xGY5ehCVfs=', '2025-01-07 22:48:26.770258', 0, 'tzim5', '', 'd.s.konstant2@gmail.com', 0, 1, '2025-01-07 22:41:39.218933', ''), (5, 'pbkdf2_sha256$216000$WUAdWy4OOcKg$2wmxbSkXktAKzjITYmiO8bk91c+vdTHmG4gDAN7VU0A=', '2025-01-09 21:15:11.343255', 0, 'tzam2', '', 'tz@tga.com', 0, 1, '2025-01-08 23:12:16.199093', ''), (6, 'pbkdf2_sha256$216000$F7jpIUI0C3mO$7vzFqxZoagRde0vcPmocEtbPBV/ylmF4MhUZDSMs+F4=', '2025-01-09 20:22:46.173819', 0, 'tzom', '', 'tzim323@gmail.com', 0, 1, '2025-01-09 20:22:37.814782', ''), (7, 'pbkdf2_sha256$216000$v3KICVboCRxy$uBkrU5yzMQ+qlE8NYPVFVludCWudv/SEwZETdwgtIVY=', '2025-01-09 20:30:30.009409', 0, 'tzim17', '', 'tzim329@gmail.com', 0, 1, '2025-01-09 20:30:19.874379', ''), (8, 'pbkdf2_sha256$216000$rKUkkUQmJnMC$WwGtlLfUPkU0F1GJ5Sk8aR2DoEndf9GqQtdCnyDgpYU=', '2025-01-09 21:05:15.948932', 0, 'tzim', '', 'tzim32323@gmail.com', 0, 1, '2025-01-09 21:05:03.451736', '')]\n"
     ]
    }
   ],
   "source": [
    "import sqlite3\n",
    "\n",
    "# Connect to the database\n",
    "conn = sqlite3.connect('db.sqlite3')\n",
    "cursor = conn.cursor()\n",
    "\n",
    "# List tables\n",
    "cursor.execute(\"SELECT name FROM sqlite_master WHERE type='table';\")\n",
    "tables = cursor.fetchall()\n",
    "print(\"Tables:\", tables)\n",
    "\n",
    "# Inspect a specific table\n",
    "table_name = 'auth_user'  # Replace with your table name\n",
    "cursor.execute(f\"PRAGMA table_info({table_name});\")\n",
    "print(f\"Schema of {table_name}:\", cursor.fetchall())\n",
    "\n",
    "# Query data\n",
    "cursor.execute(f\"SELECT * FROM {table_name} LIMIT 5;\")\n",
    "print(f\"Data from {table_name}:\", cursor.fetchall())\n",
    "\n",
    "# Close the connection\n",
    "conn.close()"
   ],
   "metadata": {
    "collapsed": false
   }
  }
 ],
 "metadata": {
  "kernelspec": {
   "display_name": "Python 3",
   "language": "python",
   "name": "python3"
  },
  "language_info": {
   "codemirror_mode": {
    "name": "ipython",
    "version": 2
   },
   "file_extension": ".py",
   "mimetype": "text/x-python",
   "name": "python",
   "nbconvert_exporter": "python",
   "pygments_lexer": "ipython2",
   "version": "2.7.6"
  }
 },
 "nbformat": 4,
 "nbformat_minor": 0
}
